{
  "nbformat": 4,
  "nbformat_minor": 0,
  "metadata": {
    "colab": {
      "provenance": []
    },
    "kernelspec": {
      "name": "python3",
      "display_name": "Python 3"
    },
    "language_info": {
      "name": "python"
    }
  },
  "cells": [
    {
      "cell_type": "code",
      "execution_count": null,
      "metadata": {
        "colab": {
          "base_uri": "https://localhost:8080/",
          "height": 73
        },
        "id": "c2KeTZpvrg_8",
        "outputId": "133af805-9a9e-44df-dff7-6a2314a27ab4"
      },
      "outputs": [
        {
          "output_type": "display_data",
          "data": {
            "text/plain": [
              "<IPython.core.display.HTML object>"
            ],
            "text/html": [
              "\n",
              "     <input type=\"file\" id=\"files-3127e83b-a412-4ff4-a340-a413069d8a8e\" name=\"files[]\" multiple disabled\n",
              "        style=\"border:none\" />\n",
              "     <output id=\"result-3127e83b-a412-4ff4-a340-a413069d8a8e\">\n",
              "      Upload widget is only available when the cell has been executed in the\n",
              "      current browser session. Please rerun this cell to enable.\n",
              "      </output>\n",
              "      <script>// Copyright 2017 Google LLC\n",
              "//\n",
              "// Licensed under the Apache License, Version 2.0 (the \"License\");\n",
              "// you may not use this file except in compliance with the License.\n",
              "// You may obtain a copy of the License at\n",
              "//\n",
              "//      http://www.apache.org/licenses/LICENSE-2.0\n",
              "//\n",
              "// Unless required by applicable law or agreed to in writing, software\n",
              "// distributed under the License is distributed on an \"AS IS\" BASIS,\n",
              "// WITHOUT WARRANTIES OR CONDITIONS OF ANY KIND, either express or implied.\n",
              "// See the License for the specific language governing permissions and\n",
              "// limitations under the License.\n",
              "\n",
              "/**\n",
              " * @fileoverview Helpers for google.colab Python module.\n",
              " */\n",
              "(function(scope) {\n",
              "function span(text, styleAttributes = {}) {\n",
              "  const element = document.createElement('span');\n",
              "  element.textContent = text;\n",
              "  for (const key of Object.keys(styleAttributes)) {\n",
              "    element.style[key] = styleAttributes[key];\n",
              "  }\n",
              "  return element;\n",
              "}\n",
              "\n",
              "// Max number of bytes which will be uploaded at a time.\n",
              "const MAX_PAYLOAD_SIZE = 100 * 1024;\n",
              "\n",
              "function _uploadFiles(inputId, outputId) {\n",
              "  const steps = uploadFilesStep(inputId, outputId);\n",
              "  const outputElement = document.getElementById(outputId);\n",
              "  // Cache steps on the outputElement to make it available for the next call\n",
              "  // to uploadFilesContinue from Python.\n",
              "  outputElement.steps = steps;\n",
              "\n",
              "  return _uploadFilesContinue(outputId);\n",
              "}\n",
              "\n",
              "// This is roughly an async generator (not supported in the browser yet),\n",
              "// where there are multiple asynchronous steps and the Python side is going\n",
              "// to poll for completion of each step.\n",
              "// This uses a Promise to block the python side on completion of each step,\n",
              "// then passes the result of the previous step as the input to the next step.\n",
              "function _uploadFilesContinue(outputId) {\n",
              "  const outputElement = document.getElementById(outputId);\n",
              "  const steps = outputElement.steps;\n",
              "\n",
              "  const next = steps.next(outputElement.lastPromiseValue);\n",
              "  return Promise.resolve(next.value.promise).then((value) => {\n",
              "    // Cache the last promise value to make it available to the next\n",
              "    // step of the generator.\n",
              "    outputElement.lastPromiseValue = value;\n",
              "    return next.value.response;\n",
              "  });\n",
              "}\n",
              "\n",
              "/**\n",
              " * Generator function which is called between each async step of the upload\n",
              " * process.\n",
              " * @param {string} inputId Element ID of the input file picker element.\n",
              " * @param {string} outputId Element ID of the output display.\n",
              " * @return {!Iterable<!Object>} Iterable of next steps.\n",
              " */\n",
              "function* uploadFilesStep(inputId, outputId) {\n",
              "  const inputElement = document.getElementById(inputId);\n",
              "  inputElement.disabled = false;\n",
              "\n",
              "  const outputElement = document.getElementById(outputId);\n",
              "  outputElement.innerHTML = '';\n",
              "\n",
              "  const pickedPromise = new Promise((resolve) => {\n",
              "    inputElement.addEventListener('change', (e) => {\n",
              "      resolve(e.target.files);\n",
              "    });\n",
              "  });\n",
              "\n",
              "  const cancel = document.createElement('button');\n",
              "  inputElement.parentElement.appendChild(cancel);\n",
              "  cancel.textContent = 'Cancel upload';\n",
              "  const cancelPromise = new Promise((resolve) => {\n",
              "    cancel.onclick = () => {\n",
              "      resolve(null);\n",
              "    };\n",
              "  });\n",
              "\n",
              "  // Wait for the user to pick the files.\n",
              "  const files = yield {\n",
              "    promise: Promise.race([pickedPromise, cancelPromise]),\n",
              "    response: {\n",
              "      action: 'starting',\n",
              "    }\n",
              "  };\n",
              "\n",
              "  cancel.remove();\n",
              "\n",
              "  // Disable the input element since further picks are not allowed.\n",
              "  inputElement.disabled = true;\n",
              "\n",
              "  if (!files) {\n",
              "    return {\n",
              "      response: {\n",
              "        action: 'complete',\n",
              "      }\n",
              "    };\n",
              "  }\n",
              "\n",
              "  for (const file of files) {\n",
              "    const li = document.createElement('li');\n",
              "    li.append(span(file.name, {fontWeight: 'bold'}));\n",
              "    li.append(span(\n",
              "        `(${file.type || 'n/a'}) - ${file.size} bytes, ` +\n",
              "        `last modified: ${\n",
              "            file.lastModifiedDate ? file.lastModifiedDate.toLocaleDateString() :\n",
              "                                    'n/a'} - `));\n",
              "    const percent = span('0% done');\n",
              "    li.appendChild(percent);\n",
              "\n",
              "    outputElement.appendChild(li);\n",
              "\n",
              "    const fileDataPromise = new Promise((resolve) => {\n",
              "      const reader = new FileReader();\n",
              "      reader.onload = (e) => {\n",
              "        resolve(e.target.result);\n",
              "      };\n",
              "      reader.readAsArrayBuffer(file);\n",
              "    });\n",
              "    // Wait for the data to be ready.\n",
              "    let fileData = yield {\n",
              "      promise: fileDataPromise,\n",
              "      response: {\n",
              "        action: 'continue',\n",
              "      }\n",
              "    };\n",
              "\n",
              "    // Use a chunked sending to avoid message size limits. See b/62115660.\n",
              "    let position = 0;\n",
              "    do {\n",
              "      const length = Math.min(fileData.byteLength - position, MAX_PAYLOAD_SIZE);\n",
              "      const chunk = new Uint8Array(fileData, position, length);\n",
              "      position += length;\n",
              "\n",
              "      const base64 = btoa(String.fromCharCode.apply(null, chunk));\n",
              "      yield {\n",
              "        response: {\n",
              "          action: 'append',\n",
              "          file: file.name,\n",
              "          data: base64,\n",
              "        },\n",
              "      };\n",
              "\n",
              "      let percentDone = fileData.byteLength === 0 ?\n",
              "          100 :\n",
              "          Math.round((position / fileData.byteLength) * 100);\n",
              "      percent.textContent = `${percentDone}% done`;\n",
              "\n",
              "    } while (position < fileData.byteLength);\n",
              "  }\n",
              "\n",
              "  // All done.\n",
              "  yield {\n",
              "    response: {\n",
              "      action: 'complete',\n",
              "    }\n",
              "  };\n",
              "}\n",
              "\n",
              "scope.google = scope.google || {};\n",
              "scope.google.colab = scope.google.colab || {};\n",
              "scope.google.colab._files = {\n",
              "  _uploadFiles,\n",
              "  _uploadFilesContinue,\n",
              "};\n",
              "})(self);\n",
              "</script> "
            ]
          },
          "metadata": {}
        },
        {
          "output_type": "stream",
          "name": "stdout",
          "text": [
            "Saving weblog.csv to weblog.csv\n"
          ]
        }
      ],
      "source": [
        "import pandas as pd\n",
        "import numpy as np\n",
        "from sklearn.model_selection import train_test_split, cross_val_score\n",
        "from sklearn.pipeline import Pipeline\n",
        "from sklearn.compose import ColumnTransformer\n",
        "from sklearn.preprocessing import StandardScaler, OneHotEncoder\n",
        "from xgboost import XGBClassifier\n",
        "from sklearn.metrics import classification_report, accuracy_score, confusion_matrix\n",
        "\n",
        "# -------------------------------------\n",
        "# Step 1: Upload and Load the WEB Logs CSV File\n",
        "from google.colab import files\n",
        "uploaded = files.upload()"
      ]
    },
    {
      "cell_type": "code",
      "source": [
        "from datetime import datetime\n",
        "from sklearn.feature_extraction.text import TfidfVectorizer"
      ],
      "metadata": {
        "id": "RyXRPLP-sClU"
      },
      "execution_count": null,
      "outputs": []
    },
    {
      "cell_type": "code",
      "source": [
        "# Since the file may have no header, we assign column names:\n",
        "# Columns: IP, Timestamp, Request, Status\n",
        "df = pd.read_csv(\"weblog.csv\", header=None, names=[\"IP\", \"Timestamp\", \"Request\", \"Status\"])\n",
        "print(\"First few rows of the dataset:\")\n",
        "print(df.head())\n",
        "print(\"\\nData Info:\")\n",
        "print(df.info())"
      ],
      "metadata": {
        "colab": {
          "base_uri": "https://localhost:8080/"
        },
        "id": "7daNa3NVsUue",
        "outputId": "3e7a9e2e-e7c4-4205-800c-713ab397b28e"
      },
      "execution_count": null,
      "outputs": [
        {
          "output_type": "stream",
          "name": "stdout",
          "text": [
            "First few rows of the dataset:\n",
            "           IP              Timestamp                                Request  \\\n",
            "0          IP                   Time                                    URL   \n",
            "1  10.128.2.1  [29/Nov/2017:06:58:55                GET /login.php HTTP/1.1   \n",
            "2  10.128.2.1  [29/Nov/2017:06:59:02             POST /process.php HTTP/1.1   \n",
            "3  10.128.2.1  [29/Nov/2017:06:59:03                 GET /home.php HTTP/1.1   \n",
            "4  10.131.2.1  [29/Nov/2017:06:59:04  GET /js/vendor/moment.min.js HTTP/1.1   \n",
            "\n",
            "  Status  \n",
            "0  Staus  \n",
            "1    200  \n",
            "2    302  \n",
            "3    200  \n",
            "4    200  \n",
            "\n",
            "Data Info:\n",
            "<class 'pandas.core.frame.DataFrame'>\n",
            "RangeIndex: 16008 entries, 0 to 16007\n",
            "Data columns (total 4 columns):\n",
            " #   Column     Non-Null Count  Dtype \n",
            "---  ------     --------------  ----- \n",
            " 0   IP         16008 non-null  object\n",
            " 1   Timestamp  16008 non-null  object\n",
            " 2   Request    16008 non-null  object\n",
            " 3   Status     16008 non-null  object\n",
            "dtypes: object(4)\n",
            "memory usage: 500.4+ KB\n",
            "None\n"
          ]
        }
      ]
    },
    {
      "cell_type": "code",
      "source": [
        "# Step 2: Data Cleaning & Preprocessing\n",
        "\n",
        "# Remove any extraneous characters from the Timestamp (e.g. the leading '[')\n",
        "df['Timestamp'] = df['Timestamp'].str.replace(r'^\\[', '', regex=True)\n"
      ],
      "metadata": {
        "id": "SFWhH_bqsZHi"
      },
      "execution_count": null,
      "outputs": []
    },
    {
      "cell_type": "code",
      "source": [
        "# Convert Timestamp to datetime using format: day/Mon/year:hour:minute:second\n",
        "# Example: \"29/Nov/2017:06:58:55\"\n",
        "df['Timestamp'] = pd.to_datetime(df['Timestamp'], format=\"%d/%b/%Y:%H:%M:%S\", errors='coerce')\n",
        "\n",
        "# Extract time features: hour and minute\n",
        "df['hour'] = df['Timestamp'].dt.hour\n",
        "df['minute'] = df['Timestamp'].dt.minute\n",
        "\n",
        "# Convert Status to numeric (if not already)\n",
        "df['Status'] = pd.to_numeric(df['Status'], errors='coerce').fillna(0).astype(int)\n"
      ],
      "metadata": {
        "id": "pw2jgcr8shA0"
      },
      "execution_count": null,
      "outputs": []
    },
    {
      "cell_type": "code",
      "source": [
        "# Create target label:\n",
        "# If status is 200, label as normal (0); else, label as suspicious (1)\n",
        "df['issue'] = df['Status'].apply(lambda x: 0 if x == 200 else 1)\n",
        "\n",
        "print(\"\\nLabel distribution:\")\n",
        "print(df['issue'].value_counts())\n",
        "\n",
        "# Extract HTTP method from the Request column (assume the method is the first token)\n",
        "df['Method'] = df['Request'].apply(lambda x: str(x).split()[0] if pd.notnull(x) and len(str(x).split())>0 else \"Unknown\")\n"
      ],
      "metadata": {
        "colab": {
          "base_uri": "https://localhost:8080/"
        },
        "id": "u9q-FrhEsmEy",
        "outputId": "ffc9990c-3812-4a7d-cc5a-daf57ffc87d6"
      },
      "execution_count": null,
      "outputs": [
        {
          "output_type": "stream",
          "name": "stdout",
          "text": [
            "\n",
            "Label distribution:\n",
            "issue\n",
            "0    11330\n",
            "1     4678\n",
            "Name: count, dtype: int64\n"
          ]
        }
      ]
    },
    {
      "cell_type": "code",
      "source": [
        "# Step 3: Feature Selection\n",
        "# Define features:\n",
        "# - \"Request\": full HTTP request text, to be vectorized.\n",
        "# - \"Method\": HTTP method (categorical).\n",
        "# - \"hour\" and \"minute\": numeric features.\n",
        "feature_columns = [\"Request\", \"Method\", \"hour\", \"minute\"]\n",
        "X = df[feature_columns]\n",
        "y = df['issue']"
      ],
      "metadata": {
        "id": "tGkacAQdsvah"
      },
      "execution_count": null,
      "outputs": []
    },
    {
      "cell_type": "code",
      "source": [
        "# Step 4: Split Data into Training and Testing Sets\n",
        "X_train, X_test, y_train, y_test = train_test_split(X, y, test_size=0.3, random_state=42)\n"
      ],
      "metadata": {
        "id": "dW6keWZts1FH"
      },
      "execution_count": null,
      "outputs": []
    },
    {
      "cell_type": "code",
      "source": [
        "# Step 5: Build a Pipeline with Feature Processing and XGBoost Classification\n",
        "# We use a ColumnTransformer to:\n",
        "# - Apply TfidfVectorizer to the \"Request\" column.\n",
        "# - One-hot encode the \"Method\" column.\n",
        "# - Scale the numeric features \"hour\" and \"minute\".\n",
        "preprocessor = ColumnTransformer(transformers=[\n",
        "    ('text', TfidfVectorizer(), 'Request'),\n",
        "    ('cat', OneHotEncoder(handle_unknown='ignore'), ['Method']),\n",
        "    ('num', StandardScaler(), ['hour', 'minute'])\n",
        "])\n"
      ],
      "metadata": {
        "id": "yE_xQYCKs3eE"
      },
      "execution_count": null,
      "outputs": []
    },
    {
      "cell_type": "code",
      "source": [
        "# Build the pipeline with XGBoost as the classifier.\n",
        "pipeline = Pipeline(steps=[\n",
        "    ('preprocessor', preprocessor),\n",
        "    ('classifier', XGBClassifier(n_estimators=100,\n",
        "                                 use_label_encoder=False,\n",
        "                                 eval_metric='logloss',\n",
        "                                 random_state=42))\n",
        "])"
      ],
      "metadata": {
        "id": "8Fddn7MHs-lS"
      },
      "execution_count": null,
      "outputs": []
    },
    {
      "cell_type": "code",
      "source": [
        "# Step 6: Train the Model\n",
        "pipeline.fit(X_train, y_train)\n",
        "\n",
        "# -------------------------------------\n",
        "# Step 7: Make Predictions on the Test Set\n",
        "y_pred = pipeline.predict(X_test)\n"
      ],
      "metadata": {
        "colab": {
          "base_uri": "https://localhost:8080/"
        },
        "id": "tj1RfR_WtCH_",
        "outputId": "d0b8a8c1-2331-4379-8fb3-3a0ae1cfba4f"
      },
      "execution_count": null,
      "outputs": [
        {
          "output_type": "stream",
          "name": "stderr",
          "text": [
            "/usr/local/lib/python3.11/dist-packages/xgboost/core.py:158: UserWarning: [11:54:32] WARNING: /workspace/src/learner.cc:740: \n",
            "Parameters: { \"use_label_encoder\" } are not used.\n",
            "\n",
            "  warnings.warn(smsg, UserWarning)\n"
          ]
        }
      ]
    },
    {
      "cell_type": "code",
      "source": [
        "# Step 8: Evaluate the Model\n",
        "print(\"\\nClassification Report:\")\n",
        "print(classification_report(y_test, y_pred))\n",
        "print(\"Accuracy:\", accuracy_score(y_test, y_pred))\n",
        "print(\"Confusion Matrix:\")\n",
        "print(confusion_matrix(y_test, y_pred))\n"
      ],
      "metadata": {
        "colab": {
          "base_uri": "https://localhost:8080/"
        },
        "id": "qUO-iIt-tHuY",
        "outputId": "a537642e-74f3-4a76-831d-5a2f5a3b515a"
      },
      "execution_count": null,
      "outputs": [
        {
          "output_type": "stream",
          "name": "stdout",
          "text": [
            "\n",
            "Classification Report:\n",
            "              precision    recall  f1-score   support\n",
            "\n",
            "           0       0.96      0.98      0.97      3359\n",
            "           1       0.95      0.90      0.93      1444\n",
            "\n",
            "    accuracy                           0.96      4803\n",
            "   macro avg       0.95      0.94      0.95      4803\n",
            "weighted avg       0.96      0.96      0.96      4803\n",
            "\n",
            "Accuracy: 0.9566937330834895\n",
            "Confusion Matrix:\n",
            "[[3289   70]\n",
            " [ 138 1306]]\n"
          ]
        }
      ]
    }
  ]
}